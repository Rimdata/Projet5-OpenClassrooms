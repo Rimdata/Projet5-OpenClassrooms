{
 "cells": [
  {
   "cell_type": "markdown",
   "id": "dec5ca24",
   "metadata": {},
   "source": [
    "<img src=\"OC.png\" width=\"50\" height=\"50\" align=\"left\">    \n",
    "\n",
    "***\n",
    "\n",
    "<center> <font size=\"6\"> <span style='color:Blue'> P5: Segmentez des clients d'un site e-commerce </span></font> </center>  \n",
    "\n",
    "***"
   ]
  },
  {
   "cell_type": "markdown",
   "id": "5304428d",
   "metadata": {},
   "source": [
    "**Contexte**  \n",
    "**Olist** est une entreprise brésilienne qui propose une solution de vente sue les marketplaces en ligne.\n",
    "<img src=\"Olist.jpeg\">\n",
    "**Mission**   \n",
    "Fournir à l'équipe marketing:  \n",
    "* **une segmentation des clients** qu’elles pourront utiliser au quotidien pour leurs campagnes de communication.  \n",
    "* **une description actionable** de la segmentation et de sa logique sous-jacente pour une utilisation optimale.\n",
    "* **une proposition de contrat de maintenance** basée sur une analyse de la stabilité des segments au cours du temps."
   ]
  },
  {
   "cell_type": "markdown",
   "id": "e46c2f4f",
   "metadata": {},
   "source": [
    " <font size=\"4\"> <span style=\"font-size: 1.5em\" > **Partie 3: Simulation** </span> </font> "
   ]
  },
  {
   "cell_type": "markdown",
   "id": "fb165ed8",
   "metadata": {},
   "source": [
    "Ce notebook sera dédié au contrat de maintenance. L'objectif est de faire une recommandation de fréquence à laquelle la segmentation doit être mise à jour pour rester pertinente, afin de pouvoir effectuer un devis de contrat de maintenance. Il s'agit de préciser une période de maintenance au bout de la quelle, l'algorithme doit être ré-étudié vu qu'il commence à perdre ses performances suite aux changements du jeu de données d'entrée.\n",
    "\n",
    "On entraîne:\n",
    "* un modèle M0 pour toutes les données jusqu'à un temps t0 (ici un an du 04/09/2016 au 03/03/2018).\n",
    "* un modèle Mi qui prend en compte les données jusqu'à après i semaines ti = t0 + 7i, (t en jours).   \n",
    "\n",
    "Ensuite, on utilise les deux modèles pour faire la prédiction sur tous les clients jusqu'à la date ti. Quand l'ARI score descend sous une certaine valeur seuil=0.8, l'abscisse correspond donc au délai de maintenance.\n",
    "\n",
    "La standardisation pour le modèle M0 ne sera pas la même que pour le modèle Mi, donc quand on prédit avec M0 sur les données à t1, on utilise bien le standard scaler du modèle M0, et si on prédit avec M1, on utilise le standar scaler du modèle M1, etc.. \n",
    "\n",
    "Les étapes de cette démarche consistent en:\n",
    "\n",
    "* Le chargement du jeu de données nettoyé sur les commandes.\n",
    "* \n",
    "* La selection de données afin de considérer que les données entre une date d'entrée et une date de sortie.\n",
    "* La standardisation des variables numériques: c'est une étape qui va se répéter à chaque itération.\n",
    "* Le score ARI est calculé entre les valeurs prédites avec le modèle M0 (année 1) et les valeurs considérées réelles prédites à patir d'un nouveau modèle Mi."
   ]
  },
  {
   "cell_type": "markdown",
   "id": "367ff08a",
   "metadata": {},
   "source": [
    "# "
   ]
  },
  {
   "cell_type": "markdown",
   "id": "46c41ff8",
   "metadata": {},
   "source": [
    "## Importation des librairies Python pour DS"
   ]
  },
  {
   "cell_type": "code",
   "execution_count": 1,
   "id": "cedd5693",
   "metadata": {},
   "outputs": [],
   "source": [
    "%load_ext pycodestyle_magic\n",
    "%flake8_on "
   ]
  },
  {
   "cell_type": "code",
   "execution_count": 21,
   "id": "34a61bf4",
   "metadata": {},
   "outputs": [],
   "source": [
    "# ------------------------------------------\n",
    "# projet : données des clients Olist\n",
    "# Auteur : Rim BAHROUN\n",
    "# Date: Janvier 2023\n",
    "# OpenClassrooms\n",
    "# Notebook: 3/3\n",
    "# -------------------------------------------\n",
    "# importation des librairies Python pour DS\n",
    "# -------------------------------------------\n",
    "import numpy as np\n",
    "import pandas as pd\n",
    "import csv\n",
    "\n",
    "import datetime as dt\n",
    "from datetime import timedelta\n",
    "\n",
    "import seaborn as sns\n",
    "import matplotlib.pyplot as plt\n",
    "\n",
    "from sklearn.pipeline import Pipeline\n",
    "from sklearn.preprocessing import StandardScaler\n",
    "from sklearn.cluster import KMeans\n",
    "from sklearn.decomposition import PCA\n",
    "\n",
    "from sklearn.metrics import silhouette_score\n",
    "from sklearn.metrics.cluster import adjusted_rand_score\n",
    "\n",
    "from shapely.geometry import LineString\n",
    "\n",
    "import warnings"
   ]
  },
  {
   "cell_type": "code",
   "execution_count": 3,
   "id": "cf26dcba",
   "metadata": {},
   "outputs": [],
   "source": [
    "# pour afficher 165 colonnes ou lignes minimum\n",
    "pd.set_option('display.max_column', 100)\n",
    "pd.set_option('display.max_row', 100)"
   ]
  },
  {
   "cell_type": "markdown",
   "id": "6b651be8",
   "metadata": {},
   "source": [
    "## Fonctions utilent"
   ]
  },
  {
   "cell_type": "code",
   "execution_count": 4,
   "id": "54ecbb7d",
   "metadata": {},
   "outputs": [],
   "source": [
    "def donnees_jusqua_t(ti, data_orders):\n",
    "    '''\n",
    "    Fonction qui renvoie le dataframe X_i avec les données des clients\n",
    "    jusqu'à la date ti à partir du data_orders.\n",
    "    '''\n",
    "    data_orders_i = data_orders.loc[data_orders['date_commande'] < ti, :]\n",
    "\n",
    "    # calcul de la récence = date_reference - date de commande\n",
    "    date_reference_i = data_orders_i[\"date_commande\"].dt\\\n",
    "        .date.sort_values().iloc[-1] + timedelta(days=1)\n",
    "    data_orders_i['order_recency_days'] = data_orders_i[\n",
    "        \"date_commande\"].dt.date.apply(\n",
    "        lambda x: date_reference_i - x).dt.days\n",
    "\n",
    "    # Données clients avec 7 variables jusqu'à la date ti = t0 + i*7days\n",
    "    X_i = data_orders_i.groupby('customer_unique_id').agg(\n",
    "        # nbre de jours depuis la dernière commande\n",
    "        recency=(\"order_recency_days\", 'min'),\n",
    "        # nombre de commandes par client\n",
    "        frequency=(\"order_id\", 'count'),\n",
    "        # somme des payements\n",
    "        monetory=(\"payment_value\", 'sum'),\n",
    "        # moyenne des scores donnés par le client\n",
    "        avis=(\"review_score\", lambda x: round(x.mean())),\n",
    "        # nbre de jours moyen de livraison\n",
    "        nbr_jour_livraison=(\"order_delivery_time_days\",\n",
    "                            lambda x: round(x.mean())),\n",
    "        # moyenne des nombres de versements\n",
    "        nbr_versement_moyen=(\"payment_installments\",\n",
    "                             lambda x: round(x.mean())),\n",
    "        # nombre d'articles achetés\n",
    "        nbr_total_article=(\"order_item_number\",\n",
    "                           lambda x: round(x.sum())))\n",
    "    return X_i"
   ]
  },
  {
   "cell_type": "code",
   "execution_count": 5,
   "id": "441d0f35",
   "metadata": {},
   "outputs": [],
   "source": [
    "def plot_ari_score(seuil, ari_score):\n",
    "\n",
    "    # Find the intersection point between ari-score and the threeshold\n",
    "    x = ari_score.periode_semaines.values\n",
    "    y1 = ari_score.ari_score.values\n",
    "    line_1 = LineString(np.column_stack((x, y1)))\n",
    "    y2 = seuil*np.ones(len(x))\n",
    "    line_2 = LineString(np.column_stack((x, y2)))\n",
    "    intersection = line_1.intersection(line_2)\n",
    "    x_intersection, y_intersection = intersection.xy\n",
    "    x_intersection = x_intersection[0]\n",
    "    y_intersection = y_intersection[0]\n",
    "\n",
    "    nbr_semaine_maintenance = round(x_intersection)\n",
    "\n",
    "    print('La période à partir de laquelle il faut ré-entrainer '\n",
    "          + 'le modèle est de {} semaines (soit {} jours)'\n",
    "          .format(nbr_semaine_maintenance, round(7*x_intersection)))\n",
    "\n",
    "    plt.figure(figsize=(10, 6))\n",
    "    # Drawing ARI Score\n",
    "    sns.lineplot(data=ari_score,\n",
    "                 x=\"periode_semaines\",\n",
    "                 y=\"ari_score\")\n",
    "    plt.xlabel(\"Période (en semaine)\")\n",
    "    plt.ylabel(\"ARI-score\")\n",
    "    plt.title(\"Stabilité temporelle de la segmentation par K-Means\",\n",
    "              fontsize=18,\n",
    "              color=\"m\")\n",
    "    plt.xlim(0, 20)\n",
    "    plt.ylim(0, 1)\n",
    "\n",
    "    plt.plot(x_intersection, y_intersection, 'ro')\n",
    "\n",
    "    # Drawing a horizontal line at point seuil\n",
    "    plt.axhline(y=seuil,\n",
    "                xmin=0,\n",
    "                xmax=0.57,\n",
    "                linestyle=\"--\",\n",
    "                color=\"m\")\n",
    "\n",
    "    # Drawing a vertical line at the intersection\n",
    "    plt.axvline(x=x_intersection,\n",
    "                ymin=0,\n",
    "                ymax=seuil,\n",
    "                linestyle=\"--\",\n",
    "                color=\"m\",\n",
    "                alpha=0.6)\n",
    "    plt.grid(visible=True)\n",
    "    plt.yticks(np.arange(0, 1, step=0.1))\n",
    "    plt.xticks(np.arange(20))\n",
    "    plt.show()\n",
    "    return nbr_semaine_maintenance"
   ]
  },
  {
   "cell_type": "markdown",
   "id": "b528aa52",
   "metadata": {},
   "source": [
    "## Importation des données"
   ]
  },
  {
   "cell_type": "code",
   "execution_count": 6,
   "id": "a28759a2",
   "metadata": {},
   "outputs": [],
   "source": [
    "# importation des données\n",
    "olist_orders = pd.read_csv('olist_orders_features7.csv')"
   ]
  },
  {
   "cell_type": "code",
   "execution_count": 7,
   "id": "34fb3df8",
   "metadata": {},
   "outputs": [
    {
     "name": "stdout",
     "output_type": "stream",
     "text": [
      "<class 'pandas.core.frame.DataFrame'>\n",
      "RangeIndex: 98199 entries, 0 to 98198\n",
      "Data columns (total 8 columns):\n",
      " #   Column                    Non-Null Count  Dtype  \n",
      "---  ------                    --------------  -----  \n",
      " 0   customer_unique_id        98199 non-null  object \n",
      " 1   order_id                  98199 non-null  object \n",
      " 2   payment_value             98199 non-null  float64\n",
      " 3   review_score              98199 non-null  float64\n",
      " 4   order_delivery_time_days  98199 non-null  int64  \n",
      " 5   payment_installments      98199 non-null  float64\n",
      " 6   order_item_number         98199 non-null  float64\n",
      " 7   order_purchase_timestamp  98199 non-null  object \n",
      "dtypes: float64(4), int64(1), object(3)\n",
      "memory usage: 6.0+ MB\n"
     ]
    }
   ],
   "source": [
    "olist_orders.info()"
   ]
  },
  {
   "cell_type": "code",
   "execution_count": 8,
   "id": "e997afe9",
   "metadata": {},
   "outputs": [],
   "source": [
    "olist_orders['review_score'] = olist_orders[\n",
    "    'review_score'].astype(int)\n",
    "olist_orders['payment_installments'] = olist_orders[\n",
    "    'payment_installments'].astype(int)\n",
    "olist_orders['order_item_number'] = olist_orders[\n",
    "    'order_item_number'].astype(int)"
   ]
  },
  {
   "cell_type": "code",
   "execution_count": 9,
   "id": "a1e24e3b",
   "metadata": {},
   "outputs": [],
   "source": [
    "olist_orders.rename(columns={\"order_purchase_timestamp\": \"date_commande\"},\n",
    "                    inplace=True)"
   ]
  },
  {
   "cell_type": "code",
   "execution_count": 10,
   "id": "0a82100a",
   "metadata": {},
   "outputs": [],
   "source": [
    "olist_orders[\"date_commande\"] = olist_orders[\"date_commande\"].apply(\n",
    "    pd.to_datetime)"
   ]
  },
  {
   "cell_type": "code",
   "execution_count": 11,
   "id": "fef96fdb",
   "metadata": {},
   "outputs": [
    {
     "name": "stdout",
     "output_type": "stream",
     "text": [
      "<class 'pandas.core.frame.DataFrame'>\n",
      "RangeIndex: 98199 entries, 0 to 98198\n",
      "Data columns (total 8 columns):\n",
      " #   Column                    Non-Null Count  Dtype         \n",
      "---  ------                    --------------  -----         \n",
      " 0   customer_unique_id        98199 non-null  object        \n",
      " 1   order_id                  98199 non-null  object        \n",
      " 2   payment_value             98199 non-null  float64       \n",
      " 3   review_score              98199 non-null  int32         \n",
      " 4   order_delivery_time_days  98199 non-null  int64         \n",
      " 5   payment_installments      98199 non-null  int32         \n",
      " 6   order_item_number         98199 non-null  int32         \n",
      " 7   date_commande             98199 non-null  datetime64[ns]\n",
      "dtypes: datetime64[ns](1), float64(1), int32(3), int64(1), object(2)\n",
      "memory usage: 4.9+ MB\n"
     ]
    }
   ],
   "source": [
    "olist_orders.info()"
   ]
  },
  {
   "cell_type": "code",
   "execution_count": 12,
   "id": "473f4966",
   "metadata": {},
   "outputs": [
    {
     "name": "stdout",
     "output_type": "stream",
     "text": [
      "(98199, 8)\n"
     ]
    },
    {
     "data": {
      "text/html": [
       "<div>\n",
       "<style scoped>\n",
       "    .dataframe tbody tr th:only-of-type {\n",
       "        vertical-align: middle;\n",
       "    }\n",
       "\n",
       "    .dataframe tbody tr th {\n",
       "        vertical-align: top;\n",
       "    }\n",
       "\n",
       "    .dataframe thead th {\n",
       "        text-align: right;\n",
       "    }\n",
       "</style>\n",
       "<table border=\"1\" class=\"dataframe\">\n",
       "  <thead>\n",
       "    <tr style=\"text-align: right;\">\n",
       "      <th></th>\n",
       "      <th>customer_unique_id</th>\n",
       "      <th>order_id</th>\n",
       "      <th>payment_value</th>\n",
       "      <th>review_score</th>\n",
       "      <th>order_delivery_time_days</th>\n",
       "      <th>payment_installments</th>\n",
       "      <th>order_item_number</th>\n",
       "      <th>date_commande</th>\n",
       "    </tr>\n",
       "  </thead>\n",
       "  <tbody>\n",
       "    <tr>\n",
       "      <th>0</th>\n",
       "      <td>861eff4711a542e4b93843c6dd7febb0</td>\n",
       "      <td>00e7ee1b050b8499577073aeb2a297a1</td>\n",
       "      <td>146.87</td>\n",
       "      <td>4</td>\n",
       "      <td>9</td>\n",
       "      <td>2</td>\n",
       "      <td>1</td>\n",
       "      <td>2017-05-16</td>\n",
       "    </tr>\n",
       "    <tr>\n",
       "      <th>1</th>\n",
       "      <td>290c77bc529b7ac935b93aa66c333dc3</td>\n",
       "      <td>29150127e6685892b6eab3eec79f59c7</td>\n",
       "      <td>335.48</td>\n",
       "      <td>5</td>\n",
       "      <td>17</td>\n",
       "      <td>8</td>\n",
       "      <td>1</td>\n",
       "      <td>2018-01-12</td>\n",
       "    </tr>\n",
       "    <tr>\n",
       "      <th>2</th>\n",
       "      <td>060e732b5b29e8181a18229c7b0b2b5e</td>\n",
       "      <td>b2059ed67ce144a36e2aa97d2c9e9ad2</td>\n",
       "      <td>157.73</td>\n",
       "      <td>5</td>\n",
       "      <td>26</td>\n",
       "      <td>7</td>\n",
       "      <td>1</td>\n",
       "      <td>2018-05-19</td>\n",
       "    </tr>\n",
       "    <tr>\n",
       "      <th>3</th>\n",
       "      <td>259dac757896d24d7702b9acbbff3f3c</td>\n",
       "      <td>951670f92359f4fe4a63112aa7306eba</td>\n",
       "      <td>173.30</td>\n",
       "      <td>5</td>\n",
       "      <td>15</td>\n",
       "      <td>1</td>\n",
       "      <td>1</td>\n",
       "      <td>2018-03-13</td>\n",
       "    </tr>\n",
       "    <tr>\n",
       "      <th>4</th>\n",
       "      <td>345ecd01c38d18a9036ed96c73b8d066</td>\n",
       "      <td>6b7d50bd145f6fc7f33cebabd7e49d0f</td>\n",
       "      <td>252.25</td>\n",
       "      <td>5</td>\n",
       "      <td>11</td>\n",
       "      <td>8</td>\n",
       "      <td>1</td>\n",
       "      <td>2018-07-29</td>\n",
       "    </tr>\n",
       "  </tbody>\n",
       "</table>\n",
       "</div>"
      ],
      "text/plain": [
       "                 customer_unique_id                          order_id  \\\n",
       "0  861eff4711a542e4b93843c6dd7febb0  00e7ee1b050b8499577073aeb2a297a1   \n",
       "1  290c77bc529b7ac935b93aa66c333dc3  29150127e6685892b6eab3eec79f59c7   \n",
       "2  060e732b5b29e8181a18229c7b0b2b5e  b2059ed67ce144a36e2aa97d2c9e9ad2   \n",
       "3  259dac757896d24d7702b9acbbff3f3c  951670f92359f4fe4a63112aa7306eba   \n",
       "4  345ecd01c38d18a9036ed96c73b8d066  6b7d50bd145f6fc7f33cebabd7e49d0f   \n",
       "\n",
       "   payment_value  review_score  order_delivery_time_days  \\\n",
       "0         146.87             4                         9   \n",
       "1         335.48             5                        17   \n",
       "2         157.73             5                        26   \n",
       "3         173.30             5                        15   \n",
       "4         252.25             5                        11   \n",
       "\n",
       "   payment_installments  order_item_number date_commande  \n",
       "0                     2                  1    2017-05-16  \n",
       "1                     8                  1    2018-01-12  \n",
       "2                     7                  1    2018-05-19  \n",
       "3                     1                  1    2018-03-13  \n",
       "4                     8                  1    2018-07-29  "
      ]
     },
     "execution_count": 12,
     "metadata": {},
     "output_type": "execute_result"
    }
   ],
   "source": [
    "print(olist_orders.shape)\n",
    "olist_orders.head()"
   ]
  },
  {
   "cell_type": "code",
   "execution_count": 13,
   "id": "2c3a2430",
   "metadata": {},
   "outputs": [],
   "source": [
    "olist_orders.sort_values('date_commande',\n",
    "                         ascending=True,\n",
    "                         inplace=True)\n",
    "olist_orders.reset_index(drop=True, inplace=True)"
   ]
  },
  {
   "cell_type": "code",
   "execution_count": 14,
   "id": "aa9df47f",
   "metadata": {},
   "outputs": [
    {
     "data": {
      "text/html": [
       "<div>\n",
       "<style scoped>\n",
       "    .dataframe tbody tr th:only-of-type {\n",
       "        vertical-align: middle;\n",
       "    }\n",
       "\n",
       "    .dataframe tbody tr th {\n",
       "        vertical-align: top;\n",
       "    }\n",
       "\n",
       "    .dataframe thead th {\n",
       "        text-align: right;\n",
       "    }\n",
       "</style>\n",
       "<table border=\"1\" class=\"dataframe\">\n",
       "  <thead>\n",
       "    <tr style=\"text-align: right;\">\n",
       "      <th></th>\n",
       "      <th>customer_unique_id</th>\n",
       "      <th>order_id</th>\n",
       "      <th>payment_value</th>\n",
       "      <th>review_score</th>\n",
       "      <th>order_delivery_time_days</th>\n",
       "      <th>payment_installments</th>\n",
       "      <th>order_item_number</th>\n",
       "      <th>date_commande</th>\n",
       "    </tr>\n",
       "  </thead>\n",
       "  <tbody>\n",
       "    <tr>\n",
       "      <th>0</th>\n",
       "      <td>b7d76e111c89f7ebf14761390f0f7d17</td>\n",
       "      <td>2e7a8482f6fb09756ca50c10d7bfc047</td>\n",
       "      <td>136.23</td>\n",
       "      <td>1</td>\n",
       "      <td>46</td>\n",
       "      <td>1</td>\n",
       "      <td>2</td>\n",
       "      <td>2016-09-04</td>\n",
       "    </tr>\n",
       "    <tr>\n",
       "      <th>1</th>\n",
       "      <td>830d5b7aaa3b6f1e9ad63703bec97d23</td>\n",
       "      <td>bfbd0f9bdef84302105ad712db648a6c</td>\n",
       "      <td>143.46</td>\n",
       "      <td>1</td>\n",
       "      <td>55</td>\n",
       "      <td>1</td>\n",
       "      <td>3</td>\n",
       "      <td>2016-09-15</td>\n",
       "    </tr>\n",
       "    <tr>\n",
       "      <th>2</th>\n",
       "      <td>2f64e403852e6893ae37485d5fcacdaf</td>\n",
       "      <td>be5bc2f0da14d8071e2d45451ad119d9</td>\n",
       "      <td>39.09</td>\n",
       "      <td>4</td>\n",
       "      <td>24</td>\n",
       "      <td>1</td>\n",
       "      <td>1</td>\n",
       "      <td>2016-10-03</td>\n",
       "    </tr>\n",
       "    <tr>\n",
       "      <th>3</th>\n",
       "      <td>61db744d2f835035a5625b59350c6b63</td>\n",
       "      <td>a41c8759fbe7aab36ea07e038b2d4465</td>\n",
       "      <td>53.73</td>\n",
       "      <td>3</td>\n",
       "      <td>31</td>\n",
       "      <td>1</td>\n",
       "      <td>1</td>\n",
       "      <td>2016-10-03</td>\n",
       "    </tr>\n",
       "    <tr>\n",
       "      <th>4</th>\n",
       "      <td>10e89fd8e5c745f81bec101207ba4d7d</td>\n",
       "      <td>ef1b29b591d31d57c0d7337460dd83c9</td>\n",
       "      <td>92.27</td>\n",
       "      <td>1</td>\n",
       "      <td>29</td>\n",
       "      <td>3</td>\n",
       "      <td>1</td>\n",
       "      <td>2016-10-03</td>\n",
       "    </tr>\n",
       "    <tr>\n",
       "      <th>...</th>\n",
       "      <td>...</td>\n",
       "      <td>...</td>\n",
       "      <td>...</td>\n",
       "      <td>...</td>\n",
       "      <td>...</td>\n",
       "      <td>...</td>\n",
       "      <td>...</td>\n",
       "      <td>...</td>\n",
       "    </tr>\n",
       "    <tr>\n",
       "      <th>98194</th>\n",
       "      <td>5c58de6fb80e93396e2f35642666b693</td>\n",
       "      <td>0b223d92c27432930dfe407c6aea3041</td>\n",
       "      <td>510.96</td>\n",
       "      <td>5</td>\n",
       "      <td>1</td>\n",
       "      <td>8</td>\n",
       "      <td>2</td>\n",
       "      <td>2018-08-29</td>\n",
       "    </tr>\n",
       "    <tr>\n",
       "      <th>98195</th>\n",
       "      <td>7febafa06d9d8f232a900a2937f04338</td>\n",
       "      <td>168626408cb32af0ffaf76711caae1dc</td>\n",
       "      <td>61.29</td>\n",
       "      <td>5</td>\n",
       "      <td>1</td>\n",
       "      <td>1</td>\n",
       "      <td>1</td>\n",
       "      <td>2018-08-29</td>\n",
       "    </tr>\n",
       "    <tr>\n",
       "      <th>98196</th>\n",
       "      <td>21dbe8eabd00b34492a939c540e2b1a7</td>\n",
       "      <td>d70442bc5e3cb7438da497cc6a210f80</td>\n",
       "      <td>14.29</td>\n",
       "      <td>5</td>\n",
       "      <td>1</td>\n",
       "      <td>1</td>\n",
       "      <td>1</td>\n",
       "      <td>2018-08-29</td>\n",
       "    </tr>\n",
       "    <tr>\n",
       "      <th>98197</th>\n",
       "      <td>0c6d7218d5f3fa14514fd29865269993</td>\n",
       "      <td>912859fef5a0bd5059b6d48fa79d121a</td>\n",
       "      <td>178.25</td>\n",
       "      <td>5</td>\n",
       "      <td>1</td>\n",
       "      <td>1</td>\n",
       "      <td>1</td>\n",
       "      <td>2018-08-29</td>\n",
       "    </tr>\n",
       "    <tr>\n",
       "      <th>98198</th>\n",
       "      <td>ff22e30958c13ffe219db7d711e8f564</td>\n",
       "      <td>54282e97f61c23b78330c15b154c867d</td>\n",
       "      <td>166.46</td>\n",
       "      <td>1</td>\n",
       "      <td>3</td>\n",
       "      <td>1</td>\n",
       "      <td>1</td>\n",
       "      <td>2018-09-03</td>\n",
       "    </tr>\n",
       "  </tbody>\n",
       "</table>\n",
       "<p>98199 rows × 8 columns</p>\n",
       "</div>"
      ],
      "text/plain": [
       "                     customer_unique_id                          order_id  \\\n",
       "0      b7d76e111c89f7ebf14761390f0f7d17  2e7a8482f6fb09756ca50c10d7bfc047   \n",
       "1      830d5b7aaa3b6f1e9ad63703bec97d23  bfbd0f9bdef84302105ad712db648a6c   \n",
       "2      2f64e403852e6893ae37485d5fcacdaf  be5bc2f0da14d8071e2d45451ad119d9   \n",
       "3      61db744d2f835035a5625b59350c6b63  a41c8759fbe7aab36ea07e038b2d4465   \n",
       "4      10e89fd8e5c745f81bec101207ba4d7d  ef1b29b591d31d57c0d7337460dd83c9   \n",
       "...                                 ...                               ...   \n",
       "98194  5c58de6fb80e93396e2f35642666b693  0b223d92c27432930dfe407c6aea3041   \n",
       "98195  7febafa06d9d8f232a900a2937f04338  168626408cb32af0ffaf76711caae1dc   \n",
       "98196  21dbe8eabd00b34492a939c540e2b1a7  d70442bc5e3cb7438da497cc6a210f80   \n",
       "98197  0c6d7218d5f3fa14514fd29865269993  912859fef5a0bd5059b6d48fa79d121a   \n",
       "98198  ff22e30958c13ffe219db7d711e8f564  54282e97f61c23b78330c15b154c867d   \n",
       "\n",
       "       payment_value  review_score  order_delivery_time_days  \\\n",
       "0             136.23             1                        46   \n",
       "1             143.46             1                        55   \n",
       "2              39.09             4                        24   \n",
       "3              53.73             3                        31   \n",
       "4              92.27             1                        29   \n",
       "...              ...           ...                       ...   \n",
       "98194         510.96             5                         1   \n",
       "98195          61.29             5                         1   \n",
       "98196          14.29             5                         1   \n",
       "98197         178.25             5                         1   \n",
       "98198         166.46             1                         3   \n",
       "\n",
       "       payment_installments  order_item_number date_commande  \n",
       "0                         1                  2    2016-09-04  \n",
       "1                         1                  3    2016-09-15  \n",
       "2                         1                  1    2016-10-03  \n",
       "3                         1                  1    2016-10-03  \n",
       "4                         3                  1    2016-10-03  \n",
       "...                     ...                ...           ...  \n",
       "98194                     8                  2    2018-08-29  \n",
       "98195                     1                  1    2018-08-29  \n",
       "98196                     1                  1    2018-08-29  \n",
       "98197                     1                  1    2018-08-29  \n",
       "98198                     1                  1    2018-09-03  \n",
       "\n",
       "[98199 rows x 8 columns]"
      ]
     },
     "execution_count": 14,
     "metadata": {},
     "output_type": "execute_result"
    }
   ],
   "source": [
    "olist_orders"
   ]
  },
  {
   "cell_type": "code",
   "execution_count": 15,
   "id": "7ab8ac8c",
   "metadata": {},
   "outputs": [
    {
     "data": {
      "text/plain": [
       "(98199, 8)"
      ]
     },
     "execution_count": 15,
     "metadata": {},
     "output_type": "execute_result"
    }
   ],
   "source": [
    "data_orders = olist_orders.copy()\n",
    "data_orders.shape"
   ]
  },
  {
   "cell_type": "markdown",
   "id": "c78fc439",
   "metadata": {},
   "source": [
    "# Modèle M0"
   ]
  },
  {
   "cell_type": "code",
   "execution_count": 16,
   "id": "e9a8efc8",
   "metadata": {},
   "outputs": [],
   "source": [
    "# t0 est la date à partir de quelle on commence l'étude de la maintenance\n",
    "# t0 est la date jusqu'à la quelle le modèle M0 est entrainé\n",
    "t0 = dt.datetime(2018, 3, 3)"
   ]
  },
  {
   "cell_type": "code",
   "execution_count": 17,
   "id": "f75a7f0d",
   "metadata": {},
   "outputs": [],
   "source": [
    "warnings.filterwarnings(\"ignore\")\n",
    "# X_0 données clients jusqu'à la date t0\n",
    "X_0 = donnees_jusqua_t(t0, data_orders)"
   ]
  },
  {
   "cell_type": "code",
   "execution_count": 18,
   "id": "d870746e",
   "metadata": {},
   "outputs": [
    {
     "data": {
      "text/html": [
       "<div>\n",
       "<style scoped>\n",
       "    .dataframe tbody tr th:only-of-type {\n",
       "        vertical-align: middle;\n",
       "    }\n",
       "\n",
       "    .dataframe tbody tr th {\n",
       "        vertical-align: top;\n",
       "    }\n",
       "\n",
       "    .dataframe thead th {\n",
       "        text-align: right;\n",
       "    }\n",
       "</style>\n",
       "<table border=\"1\" class=\"dataframe\">\n",
       "  <thead>\n",
       "    <tr style=\"text-align: right;\">\n",
       "      <th></th>\n",
       "      <th>recency</th>\n",
       "      <th>frequency</th>\n",
       "      <th>monetory</th>\n",
       "      <th>avis</th>\n",
       "      <th>nbr_jour_livraison</th>\n",
       "      <th>nbr_versement_moyen</th>\n",
       "      <th>nbr_total_article</th>\n",
       "    </tr>\n",
       "    <tr>\n",
       "      <th>customer_unique_id</th>\n",
       "      <th></th>\n",
       "      <th></th>\n",
       "      <th></th>\n",
       "      <th></th>\n",
       "      <th></th>\n",
       "      <th></th>\n",
       "      <th></th>\n",
       "    </tr>\n",
       "  </thead>\n",
       "  <tbody>\n",
       "    <tr>\n",
       "      <th>0000f46a3911fa3c0805444483337064</th>\n",
       "      <td>358</td>\n",
       "      <td>1</td>\n",
       "      <td>86.22</td>\n",
       "      <td>3</td>\n",
       "      <td>26</td>\n",
       "      <td>8</td>\n",
       "      <td>1</td>\n",
       "    </tr>\n",
       "    <tr>\n",
       "      <th>0000f6ccb0745a6a4b88665a16c9f078</th>\n",
       "      <td>142</td>\n",
       "      <td>1</td>\n",
       "      <td>43.62</td>\n",
       "      <td>4</td>\n",
       "      <td>20</td>\n",
       "      <td>4</td>\n",
       "      <td>1</td>\n",
       "    </tr>\n",
       "    <tr>\n",
       "      <th>0004aac84e0df4da2b147fca70cf8255</th>\n",
       "      <td>109</td>\n",
       "      <td>1</td>\n",
       "      <td>196.89</td>\n",
       "      <td>5</td>\n",
       "      <td>13</td>\n",
       "      <td>6</td>\n",
       "      <td>1</td>\n",
       "    </tr>\n",
       "    <tr>\n",
       "      <th>00053a61a98854899e70ed204dd4bafe</th>\n",
       "      <td>3</td>\n",
       "      <td>1</td>\n",
       "      <td>419.18</td>\n",
       "      <td>1</td>\n",
       "      <td>16</td>\n",
       "      <td>3</td>\n",
       "      <td>2</td>\n",
       "    </tr>\n",
       "    <tr>\n",
       "      <th>0005e1862207bf6ccc02e4228effd9a0</th>\n",
       "      <td>364</td>\n",
       "      <td>1</td>\n",
       "      <td>150.12</td>\n",
       "      <td>4</td>\n",
       "      <td>5</td>\n",
       "      <td>3</td>\n",
       "      <td>1</td>\n",
       "    </tr>\n",
       "  </tbody>\n",
       "</table>\n",
       "</div>"
      ],
      "text/plain": [
       "                                  recency  frequency  monetory  avis  \\\n",
       "customer_unique_id                                                     \n",
       "0000f46a3911fa3c0805444483337064      358          1     86.22     3   \n",
       "0000f6ccb0745a6a4b88665a16c9f078      142          1     43.62     4   \n",
       "0004aac84e0df4da2b147fca70cf8255      109          1    196.89     5   \n",
       "00053a61a98854899e70ed204dd4bafe        3          1    419.18     1   \n",
       "0005e1862207bf6ccc02e4228effd9a0      364          1    150.12     4   \n",
       "\n",
       "                                  nbr_jour_livraison  nbr_versement_moyen  \\\n",
       "customer_unique_id                                                          \n",
       "0000f46a3911fa3c0805444483337064                  26                    8   \n",
       "0000f6ccb0745a6a4b88665a16c9f078                  20                    4   \n",
       "0004aac84e0df4da2b147fca70cf8255                  13                    6   \n",
       "00053a61a98854899e70ed204dd4bafe                  16                    3   \n",
       "0005e1862207bf6ccc02e4228effd9a0                   5                    3   \n",
       "\n",
       "                                  nbr_total_article  \n",
       "customer_unique_id                                   \n",
       "0000f46a3911fa3c0805444483337064                  1  \n",
       "0000f6ccb0745a6a4b88665a16c9f078                  1  \n",
       "0004aac84e0df4da2b147fca70cf8255                  1  \n",
       "00053a61a98854899e70ed204dd4bafe                  2  \n",
       "0005e1862207bf6ccc02e4228effd9a0                  1  "
      ]
     },
     "execution_count": 18,
     "metadata": {},
     "output_type": "execute_result"
    }
   ],
   "source": [
    "X_0.head()"
   ]
  },
  {
   "cell_type": "code",
   "execution_count": 22,
   "id": "d4b7371c",
   "metadata": {},
   "outputs": [
    {
     "data": {
      "text/plain": [
       "(57140, 7)"
      ]
     },
     "execution_count": 22,
     "metadata": {},
     "output_type": "execute_result"
    }
   ],
   "source": [
    "X_0.shape"
   ]
  },
  {
   "cell_type": "code",
   "execution_count": 31,
   "id": "c22c134b",
   "metadata": {},
   "outputs": [],
   "source": [
    "# create pipeline object\n",
    "pca_0 = PCA(n_components=5).fit(X_0)\n",
    "model_0 = Pipeline(steps=[('std', StandardScaler()),\n",
    "                          ('kmeans', KMeans(init=pca_0.components_,\n",
    "                                            n_clusters=5,\n",
    "                                            n_init=1))])"
   ]
  },
  {
   "cell_type": "code",
   "execution_count": 24,
   "id": "46270b1c",
   "metadata": {},
   "outputs": [
    {
     "data": {
      "text/plain": [
       "Pipeline(steps=[('std', StandardScaler()),\n",
       "                ('kmeans',\n",
       "                 KMeans(init=array([[ 1.07369411e-02,  1.05176663e-04,  9.99929211e-01,\n",
       "        -2.60259239e-04,  3.33195124e-03,  3.83704527e-03,\n",
       "         6.21824305e-04],\n",
       "       [ 9.99910969e-01, -5.18627599e-05, -1.07146778e-02,\n",
       "         6.54724603e-04, -7.84482009e-03,  1.12509024e-03,\n",
       "        -1.10194659e-04],\n",
       "       [ 7.82166447e-03, -4.25326409e-04, -3.45038417e-03,\n",
       "        -4.60821685e-02,  9.98873883e-01,  7.09487528e-03,\n",
       "        -1.94884500e-03],\n",
       "       [ 1.22028981e-03,  4.12312114e-04,  3.80073681e-03,\n",
       "         4.66296837e-03,  7.32165419e-03, -9.99954264e-01,\n",
       "         1.20063128e-04],\n",
       "       [-3.05299057e-04, -1.92225459e-03,  1.35906201e-04,\n",
       "         9.96339551e-01,  4.57915253e-02,  4.97210538e-03,\n",
       "        -7.19868538e-02]]),\n",
       "                        n_clusters=5, n_init=1))])"
      ]
     },
     "execution_count": 24,
     "metadata": {},
     "output_type": "execute_result"
    }
   ],
   "source": [
    "# fit the pipeline to the data\n",
    "model_0.fit(X_0)"
   ]
  },
  {
   "cell_type": "markdown",
   "id": "829b8cb7",
   "metadata": {},
   "source": [
    "# Etude de la stabilité temporelle"
   ]
  },
  {
   "cell_type": "code",
   "execution_count": 27,
   "id": "5208a59b",
   "metadata": {
    "collapsed": true
   },
   "outputs": [
    {
     "name": "stdout",
     "output_type": "stream",
     "text": [
      "0\n",
      "1\n",
      "2\n",
      "3\n",
      "4\n",
      "5\n",
      "6\n",
      "7\n",
      "8\n",
      "9\n",
      "10\n",
      "11\n",
      "12\n",
      "13\n",
      "14\n",
      "15\n",
      "16\n",
      "17\n",
      "18\n",
      "19\n"
     ]
    },
    {
     "name": "stderr",
     "output_type": "stream",
     "text": [
      "15:80: E501 line too long (94 > 79 characters)\n",
      "16:1: W293 blank line contains whitespace\n"
     ]
    }
   ],
   "source": [
    "warnings.filterwarnings(\"ignore\")\n",
    "\n",
    "ari_score_ = []\n",
    "# Etude de la stabilité sur 20 périodes de 1 semaine soit 5 mois\n",
    "for i in range(0, 20):\n",
    "\n",
    "    # Données jusqu'à la date ti = t0 + i*7days\n",
    "    ti = t0 + i*timedelta(days=7)\n",
    "    X_i = donnees_jusqua_t(ti, data_orders)\n",
    "\n",
    "    # create pipeline object\n",
    "    pca = PCA(n_components=5).fit(X_i)\n",
    "    model = Pipeline(steps=[('std', StandardScaler()),\n",
    "                            ('kmeans', KMeans(init=pca.components_,\n",
    "                                              n_clusters=5,\n",
    "                                              n_init=1))])\n",
    "    \n",
    "    # fit the pipeline to the data ti pour le model Mi\n",
    "    model.fit(X_i)\n",
    "\n",
    "    # use the up dated model to predict the cluster labels\n",
    "    clusters = model.predict(X_i)\n",
    "    # use the model_0 to predict the cluster labels\n",
    "    clusters_0 = model_0.predict(X_i)\n",
    "\n",
    "    # Calcul du ARI score\n",
    "    ari = adjusted_rand_score(clusters_0, clusters)\n",
    "    ari_score_.append([i, ari])\n",
    "\n",
    "ari_score = pd.DataFrame(ari_score_, columns=[\"periode_semaines\", \"ari_score\"])"
   ]
  },
  {
   "cell_type": "code",
   "execution_count": 28,
   "id": "2cc3c241",
   "metadata": {},
   "outputs": [
    {
     "data": {
      "text/html": [
       "<div>\n",
       "<style scoped>\n",
       "    .dataframe tbody tr th:only-of-type {\n",
       "        vertical-align: middle;\n",
       "    }\n",
       "\n",
       "    .dataframe tbody tr th {\n",
       "        vertical-align: top;\n",
       "    }\n",
       "\n",
       "    .dataframe thead th {\n",
       "        text-align: right;\n",
       "    }\n",
       "</style>\n",
       "<table border=\"1\" class=\"dataframe\">\n",
       "  <thead>\n",
       "    <tr style=\"text-align: right;\">\n",
       "      <th></th>\n",
       "      <th>periode_semaines</th>\n",
       "      <th>ari_score</th>\n",
       "    </tr>\n",
       "  </thead>\n",
       "  <tbody>\n",
       "    <tr>\n",
       "      <th>0</th>\n",
       "      <td>0</td>\n",
       "      <td>1.000000</td>\n",
       "    </tr>\n",
       "    <tr>\n",
       "      <th>1</th>\n",
       "      <td>1</td>\n",
       "      <td>0.971950</td>\n",
       "    </tr>\n",
       "    <tr>\n",
       "      <th>2</th>\n",
       "      <td>2</td>\n",
       "      <td>0.947145</td>\n",
       "    </tr>\n",
       "    <tr>\n",
       "      <th>3</th>\n",
       "      <td>3</td>\n",
       "      <td>0.934556</td>\n",
       "    </tr>\n",
       "    <tr>\n",
       "      <th>4</th>\n",
       "      <td>4</td>\n",
       "      <td>0.920369</td>\n",
       "    </tr>\n",
       "    <tr>\n",
       "      <th>5</th>\n",
       "      <td>5</td>\n",
       "      <td>0.908815</td>\n",
       "    </tr>\n",
       "    <tr>\n",
       "      <th>6</th>\n",
       "      <td>6</td>\n",
       "      <td>0.887402</td>\n",
       "    </tr>\n",
       "    <tr>\n",
       "      <th>7</th>\n",
       "      <td>7</td>\n",
       "      <td>0.865911</td>\n",
       "    </tr>\n",
       "    <tr>\n",
       "      <th>8</th>\n",
       "      <td>8</td>\n",
       "      <td>0.854851</td>\n",
       "    </tr>\n",
       "    <tr>\n",
       "      <th>9</th>\n",
       "      <td>9</td>\n",
       "      <td>0.842732</td>\n",
       "    </tr>\n",
       "    <tr>\n",
       "      <th>10</th>\n",
       "      <td>10</td>\n",
       "      <td>0.834390</td>\n",
       "    </tr>\n",
       "    <tr>\n",
       "      <th>11</th>\n",
       "      <td>11</td>\n",
       "      <td>0.813666</td>\n",
       "    </tr>\n",
       "    <tr>\n",
       "      <th>12</th>\n",
       "      <td>12</td>\n",
       "      <td>0.782062</td>\n",
       "    </tr>\n",
       "    <tr>\n",
       "      <th>13</th>\n",
       "      <td>13</td>\n",
       "      <td>0.740315</td>\n",
       "    </tr>\n",
       "    <tr>\n",
       "      <th>14</th>\n",
       "      <td>14</td>\n",
       "      <td>0.711009</td>\n",
       "    </tr>\n",
       "    <tr>\n",
       "      <th>15</th>\n",
       "      <td>15</td>\n",
       "      <td>0.691445</td>\n",
       "    </tr>\n",
       "    <tr>\n",
       "      <th>16</th>\n",
       "      <td>16</td>\n",
       "      <td>0.677382</td>\n",
       "    </tr>\n",
       "    <tr>\n",
       "      <th>17</th>\n",
       "      <td>17</td>\n",
       "      <td>0.666232</td>\n",
       "    </tr>\n",
       "    <tr>\n",
       "      <th>18</th>\n",
       "      <td>18</td>\n",
       "      <td>0.648843</td>\n",
       "    </tr>\n",
       "    <tr>\n",
       "      <th>19</th>\n",
       "      <td>19</td>\n",
       "      <td>0.622165</td>\n",
       "    </tr>\n",
       "  </tbody>\n",
       "</table>\n",
       "</div>"
      ],
      "text/plain": [
       "    periode_semaines  ari_score\n",
       "0                  0   1.000000\n",
       "1                  1   0.971950\n",
       "2                  2   0.947145\n",
       "3                  3   0.934556\n",
       "4                  4   0.920369\n",
       "5                  5   0.908815\n",
       "6                  6   0.887402\n",
       "7                  7   0.865911\n",
       "8                  8   0.854851\n",
       "9                  9   0.842732\n",
       "10                10   0.834390\n",
       "11                11   0.813666\n",
       "12                12   0.782062\n",
       "13                13   0.740315\n",
       "14                14   0.711009\n",
       "15                15   0.691445\n",
       "16                16   0.677382\n",
       "17                17   0.666232\n",
       "18                18   0.648843\n",
       "19                19   0.622165"
      ]
     },
     "execution_count": 28,
     "metadata": {},
     "output_type": "execute_result"
    }
   ],
   "source": [
    "ari_score"
   ]
  },
  {
   "cell_type": "code",
   "execution_count": 29,
   "id": "5a326ec3",
   "metadata": {},
   "outputs": [
    {
     "name": "stdout",
     "output_type": "stream",
     "text": [
      "La période à partir de laquelle il faut ré-entrainer le modèle est de 11 semaines (soit 80 jours)\n"
     ]
    },
    {
     "data": {
      "image/png": "[encoded data removed]",
      "text/plain": [
       "<Figure size 720x432 with 1 Axes>"
      ]
     },
     "metadata": {
      "needs_background": "light"
     },
     "output_type": "display_data"
    }
   ],
   "source": [
    "nbr_semaine_maintenance = plot_ari_score(seuil=0.8, ari_score=ari_score)"
   ]
  },
  {
   "cell_type": "markdown",
   "id": "102abb56",
   "metadata": {},
   "source": [
    "# Conclusion"
   ]
  },
  {
   "cell_type": "markdown",
   "id": "d9e132d0",
   "metadata": {},
   "source": [
    "Le score ARI mesure la similarité entre les clusters créés, s'il est à 1, le modèle est stable indépendamment des données. Dans notre cas de figure, si le seuil est fixé à 0.8 alors il faut 37 jours pour mettre à jour le modèle afin de correctement classifier les clients dans les clusters les plus correspondants."
   ]
  }
 ],
 "metadata": {
  "kernelspec": {
   "display_name": "Python 3 (ipykernel)",
   "language": "python",
   "name": "python3"
  },
  "language_info": {
   "codemirror_mode": {
    "name": "ipython",
    "version": 3
   },
   "file_extension": ".py",
   "mimetype": "text/x-python",
   "name": "python",
   "nbconvert_exporter": "python",
   "pygments_lexer": "ipython3",
   "version": "3.9.12"
  },
  "toc": {
   "base_numbering": "0",
   "nav_menu": {},
   "number_sections": true,
   "sideBar": true,
   "skip_h1_title": false,
   "title_cell": "Table of Contents",
   "title_sidebar": "Contents",
   "toc_cell": false,
   "toc_position": {
    "height": "calc(100% - 180px)",
    "left": "10px",
    "top": "150px",
    "width": "345.994px"
   },
   "toc_section_display": true,
   "toc_window_display": true
  },
  "varInspector": {
   "cols": {
    "lenName": 16,
    "lenType": 16,
    "lenVar": 40
   },
   "kernels_config": {
    "python": {
     "delete_cmd_postfix": "",
     "delete_cmd_prefix": "del ",
     "library": "var_list.py",
     "varRefreshCmd": "print(var_dic_list())"
    },
    "r": {
     "delete_cmd_postfix": ") ",
     "delete_cmd_prefix": "rm(",
     "library": "var_list.r",
     "varRefreshCmd": "cat(var_dic_list()) "
    }
   },
   "types_to_exclude": [
    "module",
    "function",
    "builtin_function_or_method",
    "instance",
    "_Feature"
   ],
   "window_display": false
  }
 },
 "nbformat": 4,
 "nbformat_minor": 5
}
